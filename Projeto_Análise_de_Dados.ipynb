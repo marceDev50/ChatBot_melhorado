{
  "nbformat": 4,
  "nbformat_minor": 0,
  "metadata": {
    "colab": {
      "provenance": [],
      "mount_file_id": "1382MYW5URbqXrLwXNU_mXmfGdZPFQUA1",
      "authorship_tag": "ABX9TyPsk4hxALjHCzueRBwY9pKd",
      "include_colab_link": true
    },
    "kernelspec": {
      "name": "python3",
      "display_name": "Python 3"
    },
    "language_info": {
      "name": "python"
    }
  },
  "cells": [
    {
      "cell_type": "markdown",
      "metadata": {
        "id": "view-in-github",
        "colab_type": "text"
      },
      "source": [
        "<a href=\"https://colab.research.google.com/github/marceDev50/ChatBot_melhorado/blob/main/Projeto_An%C3%A1lise_de_Dados.ipynb\" target=\"_parent\"><img src=\"https://colab.research.google.com/assets/colab-badge.svg\" alt=\"Open In Colab\"/></a>"
      ]
    },
    {
      "cell_type": "markdown",
      "source": [
        "# Lógica da Programação\n",
        "#Entender o desafio que se quer resolver\n",
        "\n",
        "\n",
        "\n",
        "\n",
        "\n"
      ],
      "metadata": {
        "id": "zZuYcMFEnVNg"
      }
    },
    {
      "cell_type": "markdown",
      "source": [
        "# Passo 1 --- **Percorrer** todos os arquivos da nossa pasta (Base de Dados ---> Pasta Vendas) negrito:"
      ],
      "metadata": {
        "id": "M0vougddmlI5"
      }
    },
    {
      "cell_type": "code",
      "source": [
        "import os\n",
        "lista_de_arquivos = os.listdir(\"/content/drive/MyDrive/Curso de Python - Análise de Dados/Vendas\")\n",
        "display(lista_de_arquivos)"
      ],
      "metadata": {
        "collapsed": true,
        "id": "jhGycP6lmxOH"
      },
      "execution_count": null,
      "outputs": []
    },
    {
      "cell_type": "markdown",
      "source": [
        "# Passo 2 --- Importar as bases de dados (Vendas)"
      ],
      "metadata": {
        "id": "RlSyguGAnFj_"
      }
    },
    {
      "cell_type": "code",
      "source": [
        "for arquivo in lista_de_arquivos:\n",
        "  print(f\"/content/drive/MyDrive/Curso de Python - Análise de Dados/Vendas/{arquivo}\")"
      ],
      "metadata": {
        "collapsed": true,
        "id": "tfqdnnBZnCvw"
      },
      "execution_count": null,
      "outputs": []
    },
    {
      "cell_type": "markdown",
      "source": [
        "# Passo 3 --- Tratar/Compilar as bases de dados"
      ],
      "metadata": {
        "id": "POsJo0QTna9_"
      }
    },
    {
      "cell_type": "code",
      "source": [],
      "metadata": {
        "id": "zpEASzVxnc4a"
      },
      "execution_count": null,
      "outputs": []
    },
    {
      "cell_type": "markdown",
      "source": [
        "# Passo 4 --- Calcular o produto mais vendido (em quantidade)"
      ],
      "metadata": {
        "id": "_h1Bf6Ckngn4"
      }
    },
    {
      "cell_type": "code",
      "source": [],
      "metadata": {
        "id": "m-cvT-rKnsg3"
      },
      "execution_count": null,
      "outputs": []
    },
    {
      "cell_type": "markdown",
      "source": [
        "# Passo 5 --- Calcular o produto que mais faturou (em faturamento)"
      ],
      "metadata": {
        "id": "pOdcOk11nv6w"
      }
    },
    {
      "cell_type": "code",
      "source": [],
      "metadata": {
        "id": "N6RsQhSon2x2"
      },
      "execution_count": null,
      "outputs": []
    },
    {
      "cell_type": "markdown",
      "source": [
        "# Passo 6 --- Calcular a loja/cidade que mais vendeu --- Criar um gráfico/dashboard"
      ],
      "metadata": {
        "id": "EGTXxP8yn54I"
      }
    },
    {
      "cell_type": "code",
      "source": [],
      "metadata": {
        "id": "ieE4eZ9Un-dZ"
      },
      "execution_count": null,
      "outputs": []
    }
  ]
}