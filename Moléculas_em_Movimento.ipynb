{
  "nbformat": 4,
  "nbformat_minor": 0,
  "metadata": {
    "colab": {
      "provenance": [],
      "authorship_tag": "ABX9TyOziBsfKNP83KwfGw84socr",
      "include_colab_link": true
    },
    "kernelspec": {
      "name": "python3",
      "display_name": "Python 3"
    },
    "language_info": {
      "name": "python"
    }
  },
  "cells": [
    {
      "cell_type": "markdown",
      "metadata": {
        "id": "view-in-github",
        "colab_type": "text"
      },
      "source": [
        "<a href=\"https://colab.research.google.com/github/marceDev50/ChatBot_melhorado/blob/main/Mol%C3%A9culas_em_Movimento.ipynb\" target=\"_parent\"><img src=\"https://colab.research.google.com/assets/colab-badge.svg\" alt=\"Open In Colab\"/></a>"
      ]
    },
    {
      "cell_type": "code",
      "source": [
        "import IPython.display as display\n",
        "\n",
        "html_code = \"\"\"\n",
        "<!DOCTYPE html>\n",
        "<html lang=\"pt\">\n",
        "<head>\n",
        "    <meta charset=\"UTF-8\">\n",
        "    <meta name=\"viewport\" content=\"width=device-width, initial-scale=1.0\">\n",
        "    <title>Simulação de Movimento Browniano</title>\n",
        "    <script>\n",
        "        let numParticles = 100;\n",
        "        let numSteps = 200;\n",
        "        let delta = 1;\n",
        "        let particles = [];\n",
        "        let canvas, ctx;\n",
        "\n",
        "        function initSimulation() {\n",
        "            canvas = document.getElementById(\"brownianCanvas\");\n",
        "            ctx = canvas.getContext(\"2d\");\n",
        "            resizeCanvas();\n",
        "            particles = Array.from({ length: numParticles }, () => ({\n",
        "                x: canvas.width / 2,\n",
        "                y: canvas.height / 2\n",
        "            }));\n",
        "            requestAnimationFrame(updateSimulation);\n",
        "        }\n",
        "\n",
        "        function resizeCanvas() {\n",
        "            canvas.width = window.innerWidth * 0.8;\n",
        "            canvas.height = window.innerHeight * 0.8;\n",
        "        }\n",
        "\n",
        "        function updateSimulation() {\n",
        "            ctx.clearRect(0, 0, canvas.width, canvas.height);\n",
        "            ctx.fillStyle = \"blue\";\n",
        "\n",
        "            particles.forEach(p => {\n",
        "                p.x += (Math.random() * 2 - 1) * delta;\n",
        "                p.y += (Math.random() * 2 - 1) * delta;\n",
        "                ctx.beginPath();\n",
        "                ctx.arc(p.x, p.y, 2, 0, Math.PI * 2);\n",
        "                ctx.fill();\n",
        "            });\n",
        "            requestAnimationFrame(updateSimulation);\n",
        "        }\n",
        "\n",
        "        function updateParams() {\n",
        "            numParticles = parseInt(document.getElementById(\"numParticles\").value);\n",
        "            numSteps = parseInt(document.getElementById(\"numSteps\").value);\n",
        "            delta = parseFloat(document.getElementById(\"delta\").value);\n",
        "            initSimulation();\n",
        "        }\n",
        "    </script>\n",
        "    <style>\n",
        "        body { text-align: center; font-family: Arial, sans-serif; }\n",
        "        canvas { border: 1px solid black; margin-top: 10px; }\n",
        "    </style>\n",
        "</head>\n",
        "<body onload=\"initSimulation()\">\n",
        "    <h1>Simulação de Movimento Browniano</h1>\n",
        "    <p>O movimento browniano é um fenômeno físico onde partículas suspensas em um fluido se movem de maneira aleatória devido a colisões com moléculas do fluido.</p>\n",
        "    <label for=\"numParticles\">Número de Partículas:</label>\n",
        "    <input type=\"number\" id=\"numParticles\" value=\"100\" min=\"10\" max=\"500\" step=\"10\" onchange=\"updateParams()\">\n",
        "    <br>\n",
        "    <label for=\"numSteps\">Número de Passos:</label>\n",
        "    <input type=\"number\" id=\"numSteps\" value=\"200\" min=\"50\" max=\"500\" step=\"50\" onchange=\"updateParams()\">\n",
        "    <br>\n",
        "    <label for=\"delta\">Intensidade do Movimento:</label>\n",
        "    <input type=\"number\" id=\"delta\" value=\"1\" min=\"0.1\" max=\"5.0\" step=\"0.1\" onchange=\"updateParams()\">\n",
        "    <br>\n",
        "    <canvas id=\"brownianCanvas\"></canvas>\n",
        "</body>\n",
        "</html>\n",
        "\"\"\"\n",
        "\n",
        "# Exibir no Colab\n",
        "display.display(display.HTML(html_code))\n"
      ],
      "metadata": {
        "colab": {
          "base_uri": "https://localhost:8080/",
          "height": 839
        },
        "id": "evXAvmCB7oKE",
        "outputId": "dd4698e2-b2df-47f8-8e3e-0291025f14f9"
      },
      "execution_count": 3,
      "outputs": [
        {
          "output_type": "display_data",
          "data": {
            "text/plain": [
              "<IPython.core.display.HTML object>"
            ],
            "text/html": [
              "\n",
              "<!DOCTYPE html>\n",
              "<html lang=\"pt\">\n",
              "<head>\n",
              "    <meta charset=\"UTF-8\">\n",
              "    <meta name=\"viewport\" content=\"width=device-width, initial-scale=1.0\">\n",
              "    <title>Simulação de Movimento Browniano</title>\n",
              "    <script>\n",
              "        let numParticles = 100;\n",
              "        let numSteps = 200;\n",
              "        let delta = 1;\n",
              "        let particles = [];\n",
              "        let canvas, ctx;\n",
              "\n",
              "        function initSimulation() {\n",
              "            canvas = document.getElementById(\"brownianCanvas\");\n",
              "            ctx = canvas.getContext(\"2d\");\n",
              "            resizeCanvas();\n",
              "            particles = Array.from({ length: numParticles }, () => ({\n",
              "                x: canvas.width / 2,\n",
              "                y: canvas.height / 2\n",
              "            }));\n",
              "            requestAnimationFrame(updateSimulation);\n",
              "        }\n",
              "\n",
              "        function resizeCanvas() {\n",
              "            canvas.width = window.innerWidth * 0.8;\n",
              "            canvas.height = window.innerHeight * 0.8;\n",
              "        }\n",
              "\n",
              "        function updateSimulation() {\n",
              "            ctx.clearRect(0, 0, canvas.width, canvas.height);\n",
              "            ctx.fillStyle = \"blue\";\n",
              "            \n",
              "            particles.forEach(p => {\n",
              "                p.x += (Math.random() * 2 - 1) * delta;\n",
              "                p.y += (Math.random() * 2 - 1) * delta;\n",
              "                ctx.beginPath();\n",
              "                ctx.arc(p.x, p.y, 2, 0, Math.PI * 2);\n",
              "                ctx.fill();\n",
              "            });\n",
              "            requestAnimationFrame(updateSimulation);\n",
              "        }\n",
              "\n",
              "        function updateParams() {\n",
              "            numParticles = parseInt(document.getElementById(\"numParticles\").value);\n",
              "            numSteps = parseInt(document.getElementById(\"numSteps\").value);\n",
              "            delta = parseFloat(document.getElementById(\"delta\").value);\n",
              "            initSimulation();\n",
              "        }\n",
              "    </script>\n",
              "    <style>\n",
              "        body { text-align: center; font-family: Arial, sans-serif; }\n",
              "        canvas { border: 1px solid black; margin-top: 10px; }\n",
              "    </style>\n",
              "</head>\n",
              "<body onload=\"initSimulation()\">\n",
              "    <h1>Simulação de Movimento Browniano</h1>\n",
              "    <p>O movimento browniano é um fenômeno físico onde partículas suspensas em um fluido se movem de maneira aleatória devido a colisões com moléculas do fluido.</p>\n",
              "    <label for=\"numParticles\">Número de Partículas:</label>\n",
              "    <input type=\"number\" id=\"numParticles\" value=\"100\" min=\"10\" max=\"500\" step=\"10\" onchange=\"updateParams()\">\n",
              "    <br>\n",
              "    <label for=\"numSteps\">Número de Passos:</label>\n",
              "    <input type=\"number\" id=\"numSteps\" value=\"200\" min=\"50\" max=\"500\" step=\"50\" onchange=\"updateParams()\">\n",
              "    <br>\n",
              "    <label for=\"delta\">Intensidade do Movimento:</label>\n",
              "    <input type=\"number\" id=\"delta\" value=\"1\" min=\"0.1\" max=\"5.0\" step=\"0.1\" onchange=\"updateParams()\">\n",
              "    <br>\n",
              "    <canvas id=\"brownianCanvas\"></canvas>\n",
              "</body>\n",
              "</html>\n"
            ]
          },
          "metadata": {}
        }
      ]
    },
    {
      "cell_type": "code",
      "source": [
        "html_code = \"\"\"<!DOCTYPE html>\n",
        "<html lang=\"pt\">\n",
        "<head>\n",
        "    <meta charset=\"UTF-8\">\n",
        "    <meta name=\"viewport\" content=\"width=device-width, initial-scale=1.0\">\n",
        "    <title>Moléculas em Movimento</title>\n",
        "    <script>\n",
        "        let numParticles = 100;\n",
        "        let numSteps = 200;\n",
        "        let delta = 1;\n",
        "        let particles = [];\n",
        "        let canvas, ctx;\n",
        "\n",
        "        function initSimulation() {\n",
        "            canvas = document.getElementById(\"brownianCanvas\");\n",
        "            ctx = canvas.getContext(\"2d\");\n",
        "            resizeCanvas();\n",
        "            particles = Array.from({ length: numParticles }, () => ({\n",
        "                x: canvas.width / 2,\n",
        "                y: canvas.height / 2\n",
        "            }));\n",
        "            requestAnimationFrame(updateSimulation);\n",
        "        }\n",
        "\n",
        "        function resizeCanvas() {\n",
        "            canvas.width = window.innerWidth * 0.8;\n",
        "            canvas.height = window.innerHeight * 0.8;\n",
        "        }\n",
        "\n",
        "        function updateSimulation() {\n",
        "            ctx.clearRect(0, 0, canvas.width, canvas.height);\n",
        "            ctx.fillStyle = \"blue\";\n",
        "\n",
        "            particles.forEach(p => {\n",
        "                p.x += (Math.random() * 2 - 1) * delta;\n",
        "                p.y += (Math.random() * 2 - 1) * delta;\n",
        "                ctx.beginPath();\n",
        "                ctx.arc(p.x, p.y, 2, 0, Math.PI * 2);\n",
        "                ctx.fill();\n",
        "            });\n",
        "            requestAnimationFrame(updateSimulation);\n",
        "        }\n",
        "\n",
        "        function updateParams() {\n",
        "            numParticles = parseInt(document.getElementById(\"numParticles\").value);\n",
        "            numSteps = parseInt(document.getElementById(\"numSteps\").value);\n",
        "            delta = parseFloat(document.getElementById(\"delta\").value);\n",
        "            initSimulation();\n",
        "        }\n",
        "    </script>\n",
        "    <style>\n",
        "        body { text-align: center; font-family: Arial, sans-serif; }\n",
        "        canvas { border: 1px solid black; margin-top: 10px; }\n",
        "    </style>\n",
        "</head>\n",
        "<body onload=\"initSimulation()\">\n",
        "    <h1>Moléculas em Movimento</h1>\n",
        "    <p>O movimento browniano é um fenômeno físico descrito pelo cientista Robert Brown em 1827. Ele observou que partículas microscópicas suspensas em um fluido se movem de forma aleatória. Esse movimento ocorre devido a colisões com as moléculas do fluido ao redor. A teoria cinética dos gases e a mecânica estatística explicam esse comportamento como resultado da agitação térmica das moléculas. Essa simulação demonstra esse fenômeno, onde cada partícula sofre deslocamentos aleatórios em cada passo.</p>\n",
        "    <label for=\"numParticles\">Número de Partículas:</label>\n",
        "    <input type=\"number\" id=\"numParticles\" value=\"100\" min=\"10\" max=\"500\" step=\"10\" onchange=\"updateParams()\">\n",
        "    <br>\n",
        "    <label for=\"numSteps\">Número de Passos:</label>\n",
        "    <input type=\"number\" id=\"numSteps\" value=\"200\" min=\"50\" max=\"500\" step=\"50\" onchange=\"updateParams()\">\n",
        "    <br>\n",
        "    <label for=\"delta\">Intensidade do Movimento:</label>\n",
        "    <input type=\"number\" id=\"delta\" value=\"1\" min=\"0.1\" max=\"5.0\" step=\"0.1\" onchange=\"updateParams()\">\n",
        "    <br>\n",
        "    <canvas id=\"brownianCanvas\"></canvas>\n",
        "</body>\n",
        "</html>\"\"\"\n",
        "\n",
        "# Salvar o arquivo no Google Colab\n",
        "file_path = \"/content/moleculas_em_movimento.html\"\n",
        "with open(file_path, \"w\") as file:\n",
        "    file.write(html_code)\n",
        "\n",
        "print(f\"Arquivo HTML salvo em {file_path}. Execute a próxima célula para baixar o arquivo.\")\n"
      ],
      "metadata": {
        "colab": {
          "base_uri": "https://localhost:8080/"
        },
        "id": "8V3RzS4_-f5E",
        "outputId": "03464d8b-7384-430a-f7c4-e88917ce7186"
      },
      "execution_count": 11,
      "outputs": [
        {
          "output_type": "stream",
          "name": "stdout",
          "text": [
            "Arquivo HTML salvo em /content/moleculas_em_movimento.html. Execute a próxima célula para baixar o arquivo.\n"
          ]
        }
      ]
    },
    {
      "cell_type": "code",
      "source": [
        "from google.colab import files\n",
        "files.download(\"/content/moleculas_em_movimento.html\")\n"
      ],
      "metadata": {
        "colab": {
          "base_uri": "https://localhost:8080/",
          "height": 17
        },
        "id": "G6-tT5R3-kyV",
        "outputId": "63622b48-f99a-4803-d44f-f76688a8bf1d"
      },
      "execution_count": 12,
      "outputs": [
        {
          "output_type": "display_data",
          "data": {
            "text/plain": [
              "<IPython.core.display.Javascript object>"
            ],
            "application/javascript": [
              "\n",
              "    async function download(id, filename, size) {\n",
              "      if (!google.colab.kernel.accessAllowed) {\n",
              "        return;\n",
              "      }\n",
              "      const div = document.createElement('div');\n",
              "      const label = document.createElement('label');\n",
              "      label.textContent = `Downloading \"${filename}\": `;\n",
              "      div.appendChild(label);\n",
              "      const progress = document.createElement('progress');\n",
              "      progress.max = size;\n",
              "      div.appendChild(progress);\n",
              "      document.body.appendChild(div);\n",
              "\n",
              "      const buffers = [];\n",
              "      let downloaded = 0;\n",
              "\n",
              "      const channel = await google.colab.kernel.comms.open(id);\n",
              "      // Send a message to notify the kernel that we're ready.\n",
              "      channel.send({})\n",
              "\n",
              "      for await (const message of channel.messages) {\n",
              "        // Send a message to notify the kernel that we're ready.\n",
              "        channel.send({})\n",
              "        if (message.buffers) {\n",
              "          for (const buffer of message.buffers) {\n",
              "            buffers.push(buffer);\n",
              "            downloaded += buffer.byteLength;\n",
              "            progress.value = downloaded;\n",
              "          }\n",
              "        }\n",
              "      }\n",
              "      const blob = new Blob(buffers, {type: 'application/binary'});\n",
              "      const a = document.createElement('a');\n",
              "      a.href = window.URL.createObjectURL(blob);\n",
              "      a.download = filename;\n",
              "      div.appendChild(a);\n",
              "      a.click();\n",
              "      div.remove();\n",
              "    }\n",
              "  "
            ]
          },
          "metadata": {}
        },
        {
          "output_type": "display_data",
          "data": {
            "text/plain": [
              "<IPython.core.display.Javascript object>"
            ],
            "application/javascript": [
              "download(\"download_56d24568-d653-46ac-bb3d-6c86fb24dad4\", \"moleculas_em_movimento.html\", 3035)"
            ]
          },
          "metadata": {}
        }
      ]
    }
  ]
}